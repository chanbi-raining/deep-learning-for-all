{
 "cells": [
  {
   "cell_type": "markdown",
   "metadata": {},
   "source": [
    "# Softmax classification\n",
    "## TensorFlow"
   ]
  },
  {
   "cell_type": "code",
   "execution_count": 1,
   "metadata": {},
   "outputs": [
    {
     "name": "stderr",
     "output_type": "stream",
     "text": [
      "C:\\ProgramData\\Anaconda3\\lib\\site-packages\\h5py\\__init__.py:36: FutureWarning: Conversion of the second argument of issubdtype from `float` to `np.floating` is deprecated. In future, it will be treated as `np.float64 == np.dtype(float).type`.\n",
      "  from ._conv import register_converters as _register_converters\n"
     ]
    }
   ],
   "source": [
    "import tensorflow as tf"
   ]
  },
  {
   "cell_type": "code",
   "execution_count": 2,
   "metadata": {},
   "outputs": [],
   "source": [
    "x_data = [[1, 2, 1, 1], [2, 1, 3, 2], [3, 1, 3, 4], [4, 1, 5, 5], [1, 7, 5, 5], [1, 2, 5, 6], \\\n",
    "          [1, 6, 6, 6], [1, 7, 7, 7]]\n",
    "# one-hot encoding\n",
    "y_data = [[0, 0, 1], [0, 0, 1], [0, 0, 1], [0, 1, 0], [0, 1, 0], [0, 1, 0], [1, 0, 0], [1, 0, 0]]"
   ]
  },
  {
   "cell_type": "code",
   "execution_count": 6,
   "metadata": {},
   "outputs": [],
   "source": [
    "X = tf.placeholder('float', [None, 4])\n",
    "Y = tf.placeholder('float', [None, 3])\n",
    "nb_classes = 3\n",
    "\n",
    "# tf.random_normal([input shape, output shape])\n",
    "W = tf.Variable(tf.random_normal([4, nb_classes]), name = 'weight')\n",
    "b = tf.Variable(tf.random_normal([nb_classes]), name = 'bias')"
   ]
  },
  {
   "cell_type": "code",
   "execution_count": 7,
   "metadata": {},
   "outputs": [],
   "source": [
    "# tf.nn.softmax computes softmax activations\n",
    "# softmax = exp(logits) / reduce_sum(exp(logits), dim)\n",
    "hypothesis = tf.nn.softmax(tf.matmul(X, W)+ b)\n",
    "\n",
    "cost = tf.reduce_mean(-tf.reduce_sum(Y * tf.log(hypothesis), axis = 1))\n",
    "optimizer = tf.train.GradientDescentOptimizer(learning_rate = 0.1).minimize(cost)"
   ]
  },
  {
   "cell_type": "code",
   "execution_count": 8,
   "metadata": {},
   "outputs": [
    {
     "name": "stdout",
     "output_type": "stream",
     "text": [
      "0 1.089675\n",
      "200 0.5427944\n",
      "400 0.43479735\n",
      "600 0.33923328\n",
      "800 0.25229973\n",
      "1000 0.22181144\n",
      "1200 0.20167935\n",
      "1400 0.1848445\n",
      "1600 0.1705471\n",
      "1800 0.15825337\n",
      "2000 0.14757152\n",
      "[[2.5224951e-03 9.9746740e-01 1.0052209e-05]] [1]\n",
      "----------\n",
      "[[0.89527243 0.09045193 0.01427561]] [0]\n",
      "----------\n",
      "[[8.6944016e-09 3.0477278e-04 9.9969530e-01]] [2]\n",
      "----------\n",
      "[[2.5224951e-03 9.9746740e-01 1.0052190e-05]\n",
      " [8.9527243e-01 9.0451956e-02 1.4275616e-02]\n",
      " [8.6944016e-09 3.0477278e-04 9.9969530e-01]] [1 0 2]\n"
     ]
    }
   ],
   "source": [
    "# launch graph\n",
    "with tf.Session() as sess:\n",
    "    sess.run(tf.global_variables_initializer())\n",
    "    \n",
    "    for step in range(2001):\n",
    "        sess.run(optimizer, feed_dict = {X: x_data, Y: y_data})\n",
    "        if step % 200 == 0:\n",
    "            print(step, sess.run(cost, feed_dict = {X: x_data, Y: y_data}))\n",
    "    \n",
    "    # testing & one-hot encoding\n",
    "    a = sess.run(hypothesis, feed_dict = {X: [[1, 11, 7, 9]]})\n",
    "    # tf.argmax -> return the index of the max element\n",
    "    print(a, sess.run(tf.argmax(a, 1)))\n",
    "    \n",
    "    print('-'*10)\n",
    "\n",
    "    b = sess.run(hypothesis, feed_dict = {X: [[1, 3, 4, 3]]})\n",
    "    print(b, sess.run(tf.argmax(b, 1)))\n",
    "\n",
    "    print('-'*10)\n",
    "\n",
    "    c = sess.run(hypothesis, feed_dict = {X: [[1, 1, 0, 1]]})\n",
    "    print(c, sess.run(tf.argmax(c, 1)))\n",
    "\n",
    "    print('-'*10)\n",
    "\n",
    "    all = sess.run(hypothesis, feed_dict = {X: [[1, 11, 7, 9], [1, 3, 4, 3], [1, 1, 0, 1]]})\n",
    "    print(all, sess.run(tf.argmax(all, 1)))"
   ]
  },
  {
   "cell_type": "markdown",
   "metadata": {},
   "source": [
    "### Fancy Softmax Classifier"
   ]
  },
  {
   "cell_type": "markdown",
   "metadata": {},
   "source": [
    "#### Animal classification\n",
    "Predicting animal type based on various features"
   ]
  },
  {
   "cell_type": "code",
   "execution_count": 9,
   "metadata": {},
   "outputs": [],
   "source": [
    "import numpy as np"
   ]
  },
  {
   "cell_type": "code",
   "execution_count": 11,
   "metadata": {},
   "outputs": [],
   "source": [
    "xy = np.loadtxt('data-04-zoo.csv', delimiter = ',', dtype = np.float32)\n",
    "x_data = xy[:, :-1]\n",
    "y_data = xy[:, [-1]]"
   ]
  },
  {
   "cell_type": "code",
   "execution_count": 12,
   "metadata": {},
   "outputs": [],
   "source": [
    "nb_classes = 7 # 0 ~ 6\n",
    "\n",
    "X = tf.placeholder(tf.float32, [None, 16])\n",
    "Y = tf.placeholder(tf.int32, [None, 1])# 0 ~ 6, shape = (?,1)\n",
    "\n",
    "Y_one_hot = tf.one_hot(Y, nb_classes) # one hot shape = (?, 1, 7)\n",
    "Y_one_hot = tf.reshape(Y_one_hot, [-1, nb_classes]) # shape = (?, 7)\n",
    "\n",
    "W = tf.Variable(tf.random_normal([16, nb_classes]), name = 'weight')\n",
    "b = tf.Variable(tf.random_normal([nb_classes]), name = 'bias')"
   ]
  },
  {
   "cell_type": "markdown",
   "metadata": {},
   "source": [
    "If the input indices are in rank N, the output will have rank N+1  \n",
    "a new axis is created at dimension axis (default: appended at the end)  \n",
    "-> therefore, need to reshape"
   ]
  },
  {
   "cell_type": "markdown",
   "metadata": {},
   "source": [
    "#### softmax_cross_entropy_with_logits_v2\n",
    "softmax_cross_entropy_with_logits -> deprecated"
   ]
  },
  {
   "cell_type": "code",
   "execution_count": 14,
   "metadata": {},
   "outputs": [],
   "source": [
    "logits = tf.matmul(X, W) + b # aka score\n",
    "hypothesis = tf.nn.softmax(logits)\n",
    "\n",
    "# cross entropy cost/loss\n",
    "# cost = tf.reduce_mean(-tf.reduce_sum(Y * log(hypothesis), axis = 1))\n",
    "\n",
    "# simplified version\n",
    "cost_i = tf.nn.softmax_cross_entropy_with_logits_v2(logits = logits, labels = Y_one_hot)\n",
    "cost = tf.reduce_mean(cost_i )\n",
    "optimizer = tf.train.GradientDescentOptimizer(learning_rate = 0.1).minimize(cost)"
   ]
  },
  {
   "cell_type": "code",
   "execution_count": 15,
   "metadata": {},
   "outputs": [
    {
     "name": "stdout",
     "output_type": "stream",
     "text": [
      "Step:     0\t Loss: 7.815\tAcc: 5.94%\n",
      "Step:   100\t Loss: 0.733\tAcc: 82.18%\n",
      "Step:   200\t Loss: 0.466\tAcc: 88.12%\n",
      "Step:   300\t Loss: 0.352\tAcc: 91.09%\n",
      "Step:   400\t Loss: 0.282\tAcc: 94.06%\n",
      "Step:   500\t Loss: 0.233\tAcc: 94.06%\n",
      "Step:   600\t Loss: 0.197\tAcc: 94.06%\n",
      "Step:   700\t Loss: 0.170\tAcc: 95.05%\n",
      "Step:   800\t Loss: 0.148\tAcc: 95.05%\n",
      "Step:   900\t Loss: 0.130\tAcc: 99.01%\n",
      "Step:  1000\t Loss: 0.116\tAcc: 99.01%\n",
      "Step:  1100\t Loss: 0.105\tAcc: 99.01%\n",
      "Step:  1200\t Loss: 0.095\tAcc: 99.01%\n",
      "Step:  1300\t Loss: 0.087\tAcc: 100.00%\n",
      "Step:  1400\t Loss: 0.081\tAcc: 100.00%\n",
      "Step:  1500\t Loss: 0.075\tAcc: 100.00%\n",
      "Step:  1600\t Loss: 0.070\tAcc: 100.00%\n",
      "Step:  1700\t Loss: 0.065\tAcc: 100.00%\n",
      "Step:  1800\t Loss: 0.062\tAcc: 100.00%\n",
      "Step:  1900\t Loss: 0.058\tAcc: 100.00%\n",
      "[True] Prediction: 0 True Y: 0\n",
      "[True] Prediction: 0 True Y: 0\n",
      "[True] Prediction: 3 True Y: 3\n",
      "[True] Prediction: 0 True Y: 0\n",
      "[True] Prediction: 0 True Y: 0\n",
      "[True] Prediction: 0 True Y: 0\n",
      "[True] Prediction: 0 True Y: 0\n",
      "[True] Prediction: 3 True Y: 3\n",
      "[True] Prediction: 3 True Y: 3\n",
      "[True] Prediction: 0 True Y: 0\n",
      "[True] Prediction: 0 True Y: 0\n",
      "[True] Prediction: 1 True Y: 1\n",
      "[True] Prediction: 3 True Y: 3\n",
      "[True] Prediction: 6 True Y: 6\n",
      "[True] Prediction: 6 True Y: 6\n",
      "[True] Prediction: 6 True Y: 6\n",
      "[True] Prediction: 1 True Y: 1\n",
      "[True] Prediction: 0 True Y: 0\n",
      "[True] Prediction: 3 True Y: 3\n",
      "[True] Prediction: 0 True Y: 0\n",
      "[True] Prediction: 1 True Y: 1\n",
      "[True] Prediction: 1 True Y: 1\n",
      "[True] Prediction: 0 True Y: 0\n",
      "[True] Prediction: 1 True Y: 1\n",
      "[True] Prediction: 5 True Y: 5\n",
      "[True] Prediction: 4 True Y: 4\n",
      "[True] Prediction: 4 True Y: 4\n",
      "[True] Prediction: 0 True Y: 0\n",
      "[True] Prediction: 0 True Y: 0\n",
      "[True] Prediction: 0 True Y: 0\n",
      "[True] Prediction: 5 True Y: 5\n",
      "[True] Prediction: 0 True Y: 0\n",
      "[True] Prediction: 0 True Y: 0\n",
      "[True] Prediction: 1 True Y: 1\n",
      "[True] Prediction: 3 True Y: 3\n",
      "[True] Prediction: 0 True Y: 0\n",
      "[True] Prediction: 0 True Y: 0\n",
      "[True] Prediction: 1 True Y: 1\n",
      "[True] Prediction: 3 True Y: 3\n",
      "[True] Prediction: 5 True Y: 5\n",
      "[True] Prediction: 5 True Y: 5\n",
      "[True] Prediction: 1 True Y: 1\n",
      "[True] Prediction: 5 True Y: 5\n",
      "[True] Prediction: 1 True Y: 1\n",
      "[True] Prediction: 0 True Y: 0\n",
      "[True] Prediction: 0 True Y: 0\n",
      "[True] Prediction: 6 True Y: 6\n",
      "[True] Prediction: 0 True Y: 0\n",
      "[True] Prediction: 0 True Y: 0\n",
      "[True] Prediction: 0 True Y: 0\n",
      "[True] Prediction: 0 True Y: 0\n",
      "[True] Prediction: 5 True Y: 5\n",
      "[True] Prediction: 4 True Y: 4\n",
      "[True] Prediction: 6 True Y: 6\n",
      "[True] Prediction: 0 True Y: 0\n",
      "[True] Prediction: 0 True Y: 0\n",
      "[True] Prediction: 1 True Y: 1\n",
      "[True] Prediction: 1 True Y: 1\n",
      "[True] Prediction: 1 True Y: 1\n",
      "[True] Prediction: 1 True Y: 1\n",
      "[True] Prediction: 3 True Y: 3\n",
      "[True] Prediction: 3 True Y: 3\n",
      "[True] Prediction: 2 True Y: 2\n",
      "[True] Prediction: 0 True Y: 0\n",
      "[True] Prediction: 0 True Y: 0\n",
      "[True] Prediction: 0 True Y: 0\n",
      "[True] Prediction: 0 True Y: 0\n",
      "[True] Prediction: 0 True Y: 0\n",
      "[True] Prediction: 0 True Y: 0\n",
      "[True] Prediction: 0 True Y: 0\n",
      "[True] Prediction: 0 True Y: 0\n",
      "[True] Prediction: 1 True Y: 1\n",
      "[True] Prediction: 6 True Y: 6\n",
      "[True] Prediction: 3 True Y: 3\n",
      "[True] Prediction: 0 True Y: 0\n",
      "[True] Prediction: 0 True Y: 0\n",
      "[True] Prediction: 2 True Y: 2\n",
      "[True] Prediction: 6 True Y: 6\n",
      "[True] Prediction: 1 True Y: 1\n",
      "[True] Prediction: 1 True Y: 1\n",
      "[True] Prediction: 2 True Y: 2\n",
      "[True] Prediction: 6 True Y: 6\n",
      "[True] Prediction: 3 True Y: 3\n",
      "[True] Prediction: 1 True Y: 1\n",
      "[True] Prediction: 0 True Y: 0\n",
      "[True] Prediction: 6 True Y: 6\n",
      "[True] Prediction: 3 True Y: 3\n",
      "[True] Prediction: 1 True Y: 1\n",
      "[True] Prediction: 5 True Y: 5\n",
      "[True] Prediction: 4 True Y: 4\n",
      "[True] Prediction: 2 True Y: 2\n",
      "[True] Prediction: 2 True Y: 2\n",
      "[True] Prediction: 3 True Y: 3\n",
      "[True] Prediction: 0 True Y: 0\n",
      "[True] Prediction: 0 True Y: 0\n",
      "[True] Prediction: 1 True Y: 1\n",
      "[True] Prediction: 0 True Y: 0\n",
      "[True] Prediction: 5 True Y: 5\n",
      "[True] Prediction: 0 True Y: 0\n",
      "[True] Prediction: 6 True Y: 6\n",
      "[True] Prediction: 1 True Y: 1\n"
     ]
    }
   ],
   "source": [
    "prediction = tf.argmax(hypothesis, 1) # probability -> value between 0 ~ 6\n",
    "correct_prediction = tf.equal(prediction, tf.argmax(Y_one_hot, 1))\n",
    "accuracy = tf.reduce_mean(tf.cast(correct_prediction, tf.float32))\n",
    "\n",
    "# launch graph\n",
    "with tf.Session() as sess:\n",
    "    sess.run(tf.global_variables_initializer())\n",
    "    \n",
    "    for step in range(2000):\n",
    "        sess.run(optimizer, feed_dict = {X: x_data, Y: y_data})\n",
    "        if step % 100 == 0:\n",
    "            loss, acc = sess.run([cost, accuracy], feed_dict = {X: x_data, Y: y_data})\n",
    "            print('Step: {:5}\\t Loss: {:.3f}\\tAcc: {:.2%}'.format(step, loss, acc))\n",
    "    \n",
    "    # let's  see if we can predict\n",
    "    pred = sess.run(prediction, feed_dict = {X: x_data})\n",
    "    # y_data: (N, 1) = flatten => (N, ) matches pred. shape\n",
    "    for p, y in zip(pred, y_data.flatten()):\n",
    "        print('[{}] Prediction: {} True Y: {}'.format(p == int(y), p, int(y)))"
   ]
  },
  {
   "cell_type": "markdown",
   "metadata": {},
   "source": [
    "## PyTorch"
   ]
  },
  {
   "cell_type": "code",
   "execution_count": 18,
   "metadata": {},
   "outputs": [],
   "source": [
    "import torch\n",
    "import torch.nn as nn\n",
    "from torch.autograd import Variable"
   ]
  },
  {
   "cell_type": "code",
   "execution_count": 42,
   "metadata": {},
   "outputs": [],
   "source": [
    "class LogisticClassificationModel(nn.Module):\n",
    "    def __init__(self, input_size, nb_classes):\n",
    "        super(LogisticClassificationModel, self).__init__()\n",
    "        self.linear = nn.Linear(input_size, nb_classes)\n",
    "        \n",
    "    def forward(self, x):\n",
    "        y_pred = self.linear(x)\n",
    "        return y_pred"
   ]
  },
  {
   "cell_type": "code",
   "execution_count": 43,
   "metadata": {},
   "outputs": [],
   "source": [
    "x_data = torch.from_numpy(np.array([[1, 2, 1, 1], [2, 1, 3, 2], [3, 1, 3, 4], [4, 1, 5, 5], [1, 7, 5, 5], [1, 2, 5, 6], \\\n",
    "          [1, 6, 6, 6], [1, 7, 7, 7]], dtype = np.float32))\n",
    "# one-hot encoding\n",
    "y_data = torch.from_numpy(np.array([[0, 0, 1], [0, 0, 1], [0, 0, 1], [0, 1, 0], [0, 1, 0], [0, 1, 0], [1, 0, 0], [1, 0, 0]]))\n",
    "_, y_data = torch.max(y_data, 1)\n",
    "                          \n",
    "# hyper parameters\n",
    "input_size = 4\n",
    "nb_classes = 3\n",
    "num_epochs = 2001\n",
    "learning_rate = 0.1"
   ]
  },
  {
   "cell_type": "code",
   "execution_count": 44,
   "metadata": {},
   "outputs": [
    {
     "name": "stdout",
     "output_type": "stream",
     "text": [
      "0 \tCost:  2.94557523727417 \tAccuracy:  tensor(0.3750)\n",
      "200 \tCost:  0.6071863770484924 \tAccuracy:  tensor(0.7500)\n",
      "400 \tCost:  0.5003668069839478 \tAccuracy:  tensor(0.8750)\n",
      "600 \tCost:  0.4063349664211273 \tAccuracy:  tensor(0.8750)\n",
      "800 \tCost:  0.3148180842399597 \tAccuracy:  tensor(0.8750)\n",
      "1000 \tCost:  0.24175181984901428 \tAccuracy:  tensor(1.)\n",
      "1200 \tCost:  0.21820279955863953 \tAccuracy:  tensor(1.)\n",
      "1400 \tCost:  0.1990385800600052 \tAccuracy:  tensor(1.)\n",
      "1600 \tCost:  0.18286724388599396 \tAccuracy:  tensor(1.)\n",
      "1800 \tCost:  0.16904345154762268 \tAccuracy:  tensor(1.)\n",
      "2000 \tCost:  0.15709702670574188 \tAccuracy:  tensor(1.)\n"
     ]
    }
   ],
   "source": [
    "model = LogisticClassificationModel(input_size, nb_classes)\n",
    "\n",
    "# Softmax + CrossEntropy (logSoftmax + NLLLoss)\n",
    "criterion = nn.CrossEntropyLoss() # (logit, class)\n",
    "optimizer = torch.optim.SGD(model.parameters(), lr = learning_rate)\n",
    "\n",
    "# target is of size nBatch\n",
    "# each element in target has to have 0 <= value < nClasses (0~2)\n",
    "# input is class, not one-hot\n",
    "# input is of size nBatch x nClasses = 1 x 4\n",
    "# Y_pred are logits (not softmax)\n",
    "\n",
    "for epoch in range(num_epochs):\n",
    "    y_pred = model(x_data) # logit\n",
    "    _, predicted = torch.max(y_pred, 1) # class\n",
    "    loss = criterion(y_pred, y_data)\n",
    "    accuracy = torch.mean(torch.eq(y_data, predicted).float())\n",
    "    \n",
    "    optimizer.zero_grad()\n",
    "    loss.backward()\n",
    "    optimizer.step()\n",
    "    \n",
    "    if epoch % 200 == 0:\n",
    "        print(epoch, '\\tCost: ', loss.item(), '\\tAccuracy: ', accuracy)"
   ]
  },
  {
   "cell_type": "code",
   "execution_count": 45,
   "metadata": {},
   "outputs": [
    {
     "data": {
      "text/plain": [
       "tensor([1, 0, 2])"
      ]
     },
     "execution_count": 45,
     "metadata": {},
     "output_type": "execute_result"
    }
   ],
   "source": [
    "y_pred = model(torch.from_numpy(np.array( [[1, 11, 7, 9], [1, 3, 4, 3], [1, 1, 0, 1]], dtype = np.float32)))\n",
    "_, predicted = torch.max(y_pred, 1)\n",
    "predicted"
   ]
  },
  {
   "cell_type": "markdown",
   "metadata": {},
   "source": [
    "#### Fancy Softmax Classifier - Animal classification¶"
   ]
  },
  {
   "cell_type": "code",
   "execution_count": 62,
   "metadata": {},
   "outputs": [],
   "source": [
    "xy = np.loadtxt('data-04-zoo.csv', delimiter = ',', dtype = np.float32)\n",
    "x_data = Variable(torch.Tensor(xy[:, :-1]))\n",
    "y_data = Variable(torch.Tensor(xy[:, [-1]]))\n",
    "\n",
    "# hyper parameters\n",
    "input_size = 16\n",
    "nb_classes = 7\n",
    "num_epochs = 2001\n",
    "learning_rate = 0.1"
   ]
  },
  {
   "cell_type": "code",
   "execution_count": 78,
   "metadata": {},
   "outputs": [
    {
     "name": "stdout",
     "output_type": "stream",
     "text": [
      "0 \tCost:  2.4103832244873047 \tAccuracy:  tensor(0.0990)\n",
      "200 \tCost:  0.3244876265525818 \tAccuracy:  tensor(0.9406)\n",
      "400 \tCost:  0.20642788708209991 \tAccuracy:  tensor(0.9703)\n",
      "600 \tCost:  0.15293489396572113 \tAccuracy:  tensor(0.9802)\n",
      "800 \tCost:  0.12182530015707016 \tAccuracy:  tensor(1.)\n",
      "1000 \tCost:  0.10133848339319229 \tAccuracy:  tensor(1.)\n",
      "1200 \tCost:  0.08678511530160904 \tAccuracy:  tensor(1.)\n",
      "1400 \tCost:  0.0759008601307869 \tAccuracy:  tensor(1.)\n",
      "1600 \tCost:  0.06745016574859619 \tAccuracy:  tensor(1.)\n",
      "1800 \tCost:  0.0606982484459877 \tAccuracy:  tensor(1.)\n",
      "2000 \tCost:  0.05518006905913353 \tAccuracy:  tensor(1.)\n"
     ]
    }
   ],
   "source": [
    "model = LogisticClassificationModel(input_size, nb_classes)\n",
    "\n",
    "criterion = nn.CrossEntropyLoss() # (logit, class)\n",
    "optimizer = torch.optim.SGD(model.parameters(), lr = learning_rate)\n",
    "\n",
    "for epoch in range(num_epochs):\n",
    "    y_pred = model(x_data) # logit\n",
    "    _, predicted = torch.max(y_pred, 1) # class\n",
    "    loss = criterion(y_pred, y_data.view(-1))\n",
    "    accuracy = torch.mean(torch.eq(y_data.view(-1), predicted).float())\n",
    "    \n",
    "    optimizer.zero_grad()\n",
    "    loss.backward()\n",
    "    optimizer.step()\n",
    "    \n",
    "    if epoch % 200 == 0:\n",
    "        print(epoch, '\\tCost: ', loss.item(), '\\tAccuracy: ', accuracy)"
   ]
  },
  {
   "cell_type": "code",
   "execution_count": 79,
   "metadata": {
    "scrolled": true
   },
   "outputs": [
    {
     "name": "stdout",
     "output_type": "stream",
     "text": [
      "[1] Prediction: 0 True Y: 0\n",
      "[1] Prediction: 0 True Y: 0\n",
      "[1] Prediction: 3 True Y: 3\n",
      "[1] Prediction: 0 True Y: 0\n",
      "[1] Prediction: 0 True Y: 0\n",
      "[1] Prediction: 0 True Y: 0\n",
      "[1] Prediction: 0 True Y: 0\n",
      "[1] Prediction: 3 True Y: 3\n",
      "[1] Prediction: 3 True Y: 3\n",
      "[1] Prediction: 0 True Y: 0\n",
      "[1] Prediction: 0 True Y: 0\n",
      "[1] Prediction: 1 True Y: 1\n",
      "[1] Prediction: 3 True Y: 3\n",
      "[1] Prediction: 6 True Y: 6\n",
      "[1] Prediction: 6 True Y: 6\n",
      "[1] Prediction: 6 True Y: 6\n",
      "[1] Prediction: 1 True Y: 1\n",
      "[1] Prediction: 0 True Y: 0\n",
      "[1] Prediction: 3 True Y: 3\n",
      "[1] Prediction: 0 True Y: 0\n",
      "[1] Prediction: 1 True Y: 1\n",
      "[1] Prediction: 1 True Y: 1\n",
      "[1] Prediction: 0 True Y: 0\n",
      "[1] Prediction: 1 True Y: 1\n",
      "[1] Prediction: 5 True Y: 5\n",
      "[1] Prediction: 4 True Y: 4\n",
      "[1] Prediction: 4 True Y: 4\n",
      "[1] Prediction: 0 True Y: 0\n",
      "[1] Prediction: 0 True Y: 0\n",
      "[1] Prediction: 0 True Y: 0\n",
      "[1] Prediction: 5 True Y: 5\n",
      "[1] Prediction: 0 True Y: 0\n",
      "[1] Prediction: 0 True Y: 0\n",
      "[1] Prediction: 1 True Y: 1\n",
      "[1] Prediction: 3 True Y: 3\n",
      "[1] Prediction: 0 True Y: 0\n",
      "[1] Prediction: 0 True Y: 0\n",
      "[1] Prediction: 1 True Y: 1\n",
      "[1] Prediction: 3 True Y: 3\n",
      "[1] Prediction: 5 True Y: 5\n",
      "[1] Prediction: 5 True Y: 5\n",
      "[1] Prediction: 1 True Y: 1\n",
      "[1] Prediction: 5 True Y: 5\n",
      "[1] Prediction: 1 True Y: 1\n",
      "[1] Prediction: 0 True Y: 0\n",
      "[1] Prediction: 0 True Y: 0\n",
      "[1] Prediction: 6 True Y: 6\n",
      "[1] Prediction: 0 True Y: 0\n",
      "[1] Prediction: 0 True Y: 0\n",
      "[1] Prediction: 0 True Y: 0\n",
      "[1] Prediction: 0 True Y: 0\n",
      "[1] Prediction: 5 True Y: 5\n",
      "[1] Prediction: 4 True Y: 4\n",
      "[1] Prediction: 6 True Y: 6\n",
      "[1] Prediction: 0 True Y: 0\n",
      "[1] Prediction: 0 True Y: 0\n",
      "[1] Prediction: 1 True Y: 1\n",
      "[1] Prediction: 1 True Y: 1\n",
      "[1] Prediction: 1 True Y: 1\n",
      "[1] Prediction: 1 True Y: 1\n",
      "[1] Prediction: 3 True Y: 3\n",
      "[1] Prediction: 3 True Y: 3\n",
      "[1] Prediction: 2 True Y: 2\n",
      "[1] Prediction: 0 True Y: 0\n",
      "[1] Prediction: 0 True Y: 0\n",
      "[1] Prediction: 0 True Y: 0\n",
      "[1] Prediction: 0 True Y: 0\n",
      "[1] Prediction: 0 True Y: 0\n",
      "[1] Prediction: 0 True Y: 0\n",
      "[1] Prediction: 0 True Y: 0\n",
      "[1] Prediction: 0 True Y: 0\n",
      "[1] Prediction: 1 True Y: 1\n",
      "[1] Prediction: 6 True Y: 6\n",
      "[1] Prediction: 3 True Y: 3\n",
      "[1] Prediction: 0 True Y: 0\n",
      "[1] Prediction: 0 True Y: 0\n",
      "[1] Prediction: 2 True Y: 2\n",
      "[1] Prediction: 6 True Y: 6\n",
      "[1] Prediction: 1 True Y: 1\n",
      "[1] Prediction: 1 True Y: 1\n",
      "[1] Prediction: 2 True Y: 2\n",
      "[1] Prediction: 6 True Y: 6\n",
      "[1] Prediction: 3 True Y: 3\n",
      "[1] Prediction: 1 True Y: 1\n",
      "[1] Prediction: 0 True Y: 0\n",
      "[1] Prediction: 6 True Y: 6\n",
      "[1] Prediction: 3 True Y: 3\n",
      "[1] Prediction: 1 True Y: 1\n",
      "[1] Prediction: 5 True Y: 5\n",
      "[1] Prediction: 4 True Y: 4\n",
      "[1] Prediction: 2 True Y: 2\n",
      "[1] Prediction: 2 True Y: 2\n",
      "[1] Prediction: 3 True Y: 3\n",
      "[1] Prediction: 0 True Y: 0\n",
      "[1] Prediction: 0 True Y: 0\n",
      "[1] Prediction: 1 True Y: 1\n",
      "[1] Prediction: 0 True Y: 0\n",
      "[1] Prediction: 5 True Y: 5\n",
      "[1] Prediction: 0 True Y: 0\n",
      "[1] Prediction: 6 True Y: 6\n",
      "[1] Prediction: 1 True Y: 1\n"
     ]
    }
   ],
   "source": [
    "for p, y in zip(predicted, y_data.flatten()):\n",
    "        print('[{}] Prediction: {} True Y: {}'.format(p == int(y), p, int(y)))"
   ]
  },
  {
   "cell_type": "code",
   "execution_count": null,
   "metadata": {},
   "outputs": [],
   "source": []
  }
 ],
 "metadata": {
  "kernelspec": {
   "display_name": "Python 3",
   "language": "python",
   "name": "python3"
  },
  "language_info": {
   "codemirror_mode": {
    "name": "ipython",
    "version": 3
   },
   "file_extension": ".py",
   "mimetype": "text/x-python",
   "name": "python",
   "nbconvert_exporter": "python",
   "pygments_lexer": "ipython3",
   "version": "3.6.5"
  }
 },
 "nbformat": 4,
 "nbformat_minor": 2
}
